{
 "cells": [
  {
   "cell_type": "code",
   "execution_count": null,
   "id": "0b96b770",
   "metadata": {},
   "outputs": [],
   "source": [
    "           Assignment 22 Solutions"
   ]
  },
  {
   "cell_type": "code",
   "execution_count": 1,
   "id": "a72c7354",
   "metadata": {},
   "outputs": [
    {
     "name": "stdout",
     "output_type": "stream",
     "text": [
      "iNeuron\n"
     ]
    }
   ],
   "source": [
    "1. What is the result of the code, and explain?\n",
    ">>> X = 'iNeuron'\n",
    ">>> def func():\n",
    "print(X)\n",
    ">>> func()\n",
    "Ans: The Result of this code is iNeuron, it's because\n",
    "    the function intially looks for the variable X in its local scope,\n",
    "    But since there is no local variable X, its returns the value of global variable x ie iNeuron\n",
    "X = 'iNeuron'\n",
    "def func():\n",
    "    print(X)\n",
    "func()"
   ]
  },
  {
   "cell_type": "code",
   "execution_count": 2,
   "id": "49a43577",
   "metadata": {},
   "outputs": [
    {
     "name": "stdout",
     "output_type": "stream",
     "text": [
      "NI!\n"
     ]
    }
   ],
   "source": [
    "2. What is the result of the code, and explain?\n",
    ">>> X = 'iNeuron'\n",
    ">>> def func():\n",
    "X = 'NI!'\n",
    ">>> func()\n",
    ">>> print(X)\n",
    "Ans: The Result of this cide is NI!, because the function initially looks for\n",
    "    the variable X in its local scope if X is not available then it checks for \n",
    "    variable X in the global scope, Since here the X is present in the local scope. it prints the value NI!\n",
    "\n",
    "X = 'iNeuron'\n",
    "def func():\n",
    "    X = 'NI!'\n",
    "    print(X)\n",
    "func()"
   ]
  },
  {
   "cell_type": "code",
   "execution_count": 3,
   "id": "e68019c5",
   "metadata": {},
   "outputs": [
    {
     "name": "stdout",
     "output_type": "stream",
     "text": [
      "NI\n",
      "iNeuron\n"
     ]
    }
   ],
   "source": [
    "3. What does this code print, and why?\n",
    ">>> X = 'iNeuron'\n",
    ">>> def func():\n",
    "X = 'NI'\n",
    "print(X)\n",
    ">>> func()\n",
    ">>> print(X)\n",
    "Ans: The output of the code is NI and iNeuron. X=NI is in the \n",
    "    local scope of the function func() hence the function prints the x value as\n",
    "    NI. X = 'iNeuron' is in the global scope. hence print(X) prints output as iNeuron\n",
    "\n",
    "X = 'iNeuron'\n",
    "def func():\n",
    "    X = 'NI'\n",
    "    print(X)\n",
    "func()\n",
    "print(X)"
   ]
  },
  {
   "cell_type": "code",
   "execution_count": 4,
   "id": "72fd05a5",
   "metadata": {},
   "outputs": [
    {
     "name": "stdout",
     "output_type": "stream",
     "text": [
      "NI\n"
     ]
    }
   ],
   "source": [
    "4. What output does this code produce? Why?\n",
    ">>> X = 'iNeuron'\n",
    ">>> def func():\n",
    "global X\n",
    "X = 'NI'\n",
    ">>> func()\n",
    ">>> print(X)\n",
    "Ans: The output of the code is NI. the global keyword allows a variable \n",
    "    to be accessible in the current scope. since we are using global keyword inside \n",
    "    the function func it directly access the variable in X in global scope. and changes\n",
    "    its value to NI. hence the output of the code is NI\n",
    "\n",
    "X = 'iNeuron'\n",
    "def func():\n",
    "    global X\n",
    "    X = 'NI'\n",
    "func()\n",
    "print(X)"
   ]
  },
  {
   "cell_type": "code",
   "execution_count": 5,
   "id": "119dd901",
   "metadata": {},
   "outputs": [
    {
     "name": "stdout",
     "output_type": "stream",
     "text": [
      "NI\n"
     ]
    },
    {
     "data": {
      "text/plain": [
       "'iNeuron'"
      ]
     },
     "execution_count": 5,
     "metadata": {},
     "output_type": "execute_result"
    }
   ],
   "source": [
    "\n",
    "5. What about this code—what’s the output, and why?\n",
    ">>> X = 'iNeuron'\n",
    ">>> def func():\n",
    "X = 'NI'\n",
    "def nested():\n",
    "print(X)\n",
    "nested()\n",
    ">>> func()\n",
    ">>> X\n",
    "Ans: The output of the code is NI. the reason for this output is if a \n",
    "    function wants to access a variable, if its not available in its localscope. \n",
    "    it looks for the variable in its global scope. similarly here also function nested \n",
    "    looks for variable X in its global scope. hence the output of the code is NI\n",
    "X = 'iNeuron'\n",
    "def func():\n",
    "    X = 'NI'\n",
    "    def nested():\n",
    "        print(X)\n",
    "    nested()\n",
    "func()\n",
    "X"
   ]
  },
  {
   "cell_type": "code",
   "execution_count": 6,
   "id": "2ac47b51",
   "metadata": {},
   "outputs": [
    {
     "name": "stdout",
     "output_type": "stream",
     "text": [
      "Spam\n"
     ]
    }
   ],
   "source": [
    "\n",
    "6. How about this code: what is its output in Python 3, and explain?\n",
    ">>> def func():\n",
    "X = 'NI'\n",
    "def nested():\n",
    "nonlocal X\n",
    "X = 'Spam'\n",
    "nested()\n",
    "print(X)\n",
    ">>> func()\n",
    "Ans: The output of the code is Spam. nonlocal keyword in python is used to \n",
    "    declare a variable as not local.Hence the statement X = \"Spam\" is modified in the global scope.\n",
    "    hence the output of print(X) statement is Spam\n",
    "\n",
    "\n",
    "def func():\n",
    "    X = 'NI'\n",
    "    def nested():\n",
    "        nonlocal X\n",
    "        X = 'Spam'\n",
    "    nested()\n",
    "    print(X)\n",
    "func()"
   ]
  },
  {
   "cell_type": "code",
   "execution_count": null,
   "id": "834992bd",
   "metadata": {},
   "outputs": [],
   "source": []
  }
 ],
 "metadata": {
  "kernelspec": {
   "display_name": "Python 3 (ipykernel)",
   "language": "python",
   "name": "python3"
  },
  "language_info": {
   "codemirror_mode": {
    "name": "ipython",
    "version": 3
   },
   "file_extension": ".py",
   "mimetype": "text/x-python",
   "name": "python",
   "nbconvert_exporter": "python",
   "pygments_lexer": "ipython3",
   "version": "3.9.12"
  }
 },
 "nbformat": 4,
 "nbformat_minor": 5
}
